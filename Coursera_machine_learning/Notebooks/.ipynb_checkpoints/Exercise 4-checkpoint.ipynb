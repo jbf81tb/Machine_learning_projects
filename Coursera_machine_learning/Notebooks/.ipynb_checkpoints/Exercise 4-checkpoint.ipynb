{
 "cells": [
  {
   "cell_type": "code",
   "execution_count": 49,
   "metadata": {},
   "outputs": [],
   "source": [
    "import pandas as pd\n",
    "import matplotlib.pyplot as plt\n",
    "import numpy as np\n",
    "from scipy.io import loadmat\n",
    "%matplotlib inline\n",
    "def sigmoid(x):\n",
    "    return 1/(1+np.exp(-x))\n",
    "from sklearn.preprocessing import OneHotEncoder\n",
    "ohe = OneHotEncoder(handle_unknown='ignore',sparse=False)"
   ]
  },
  {
   "cell_type": "markdown",
   "metadata": {},
   "source": [
    "This is the same as last time, so I'll start it up the same way, but this time with one-hot encoding."
   ]
  },
  {
   "cell_type": "code",
   "execution_count": 146,
   "metadata": {},
   "outputs": [],
   "source": [
    "data1 = loadmat('../Data/ex4data1.mat')\n",
    "y = np.c_[data1['y']]\n",
    "X = data1['X']\n",
    "y = ohe.fit_transform(y)"
   ]
  },
  {
   "cell_type": "code",
   "execution_count": 149,
   "metadata": {},
   "outputs": [],
   "source": [
    "weights = loadmat('../Data/ex4weights.mat')\n",
    "theta1 = weights['Theta1'].T\n",
    "theta2 = weights['Theta2'].T\n",
    "thetas = [theta1, theta2]"
   ]
  },
  {
   "cell_type": "markdown",
   "metadata": {},
   "source": [
    "Now it looks like they want me to build up the cost function, but to do that I also need to bring in the feed forward from the previous exercise."
   ]
  },
  {
   "cell_type": "code",
   "execution_count": 80,
   "metadata": {},
   "outputs": [],
   "source": [
    "a2 = sigmoid(X@theta1)\n",
    "a2 = np.c_[np.ones((a2.shape[0],1)),a2]\n",
    "a3 = sigmoid(a2@theta2)"
   ]
  },
  {
   "cell_type": "code",
   "execution_count": 349,
   "metadata": {},
   "outputs": [],
   "source": [
    "def costFunctionNN(X,y,thetas,lamda):\n",
    "    #expect X to NOT be bias-offset, y to be one-hot encoded, and a list of thetas for each adjacent layer pair\n",
    "    m = X.shape[0]\n",
    "    num_layers = len(thetas)+1\n",
    "    a = []\n",
    "    a.append(np.c_[np.ones((X.shape[0],1)),X])\n",
    "    for i in range(1,num_layers):\n",
    "        a.append(sigmoid(a[i-1]@thetas[i-1]))\n",
    "        if i<num_layers-1:\n",
    "            a[i] = np.c_[np.ones((a[i].shape[0],1)),a[i]]\n",
    "    J = -np.sum(y*np.log(a[num_layers-1])+(1-y)*np.log(1-a[num_layers-1]))/m +\\\n",
    "        lamda*sum([np.sum(theta[1:,:]**2) for theta in thetas])/(2*m)\n",
    "    return J"
   ]
  },
  {
   "cell_type": "code",
   "execution_count": 151,
   "metadata": {},
   "outputs": [
    {
     "data": {
      "text/plain": [
       "0.2876291651613189"
      ]
     },
     "execution_count": 151,
     "metadata": {},
     "output_type": "execute_result"
    }
   ],
   "source": [
    "costFunctionNN(X,y,thetas,lamda=0)"
   ]
  },
  {
   "cell_type": "code",
   "execution_count": 152,
   "metadata": {},
   "outputs": [
    {
     "data": {
      "text/plain": [
       "0.384487796242894"
      ]
     },
     "execution_count": 152,
     "metadata": {},
     "output_type": "execute_result"
    }
   ],
   "source": [
    "costFunctionNN(X,y,thetas,lamda=1)"
   ]
  },
  {
   "cell_type": "markdown",
   "metadata": {},
   "source": [
    "The values check out in comparrison with the instructions."
   ]
  },
  {
   "cell_type": "markdown",
   "metadata": {},
   "source": [
    "# Now for backpropogation!"
   ]
  },
  {
   "cell_type": "code",
   "execution_count": 123,
   "metadata": {},
   "outputs": [
    {
     "data": {
      "text/plain": [
       "(401, 25)"
      ]
     },
     "execution_count": 123,
     "metadata": {},
     "output_type": "execute_result"
    }
   ],
   "source": [
    "theta1.shape"
   ]
  },
  {
   "cell_type": "code",
   "execution_count": 124,
   "metadata": {},
   "outputs": [
    {
     "data": {
      "text/plain": [
       "(26, 10)"
      ]
     },
     "execution_count": 124,
     "metadata": {},
     "output_type": "execute_result"
    }
   ],
   "source": [
    "theta2.shape"
   ]
  },
  {
   "cell_type": "code",
   "execution_count": 381,
   "metadata": {},
   "outputs": [],
   "source": [
    "def neuralNetwork(X,y,layers, alpha=.01, lamda=0, iterations=100, gradient_checking=False):\n",
    "    #expect X to NOT be bias-offset, y to be one-hot encoded, and a list of counts for the number of nodes in each layer\n",
    "    #i.e. layers[0]=X.shape[1]\n",
    "    m = X.shape[0]\n",
    "    L = len(layers)\n",
    "    #Initialize random thetas\n",
    "    thetas, regularization_matrix = ([],[])\n",
    "    for l in range(L-1):\n",
    "        epsilon = np.sqrt(6/(layers[l]+layers[l+1]))\n",
    "        thetas.append(epsilon*(2*np.random.rand(layers[l]+1,layers[l+1])-1))\n",
    "        regularization_matrix.append(np.ones_like(thetas[l]))\n",
    "        regularization_matrix[l][:,0] = 0\n",
    "    \n",
    "    \n",
    "    J_list = []\n",
    "    for _ in range(iterations):\n",
    "\n",
    "        #Initialize Deltas\n",
    "        Delta = [np.zeros_like(thetas[l]) for l in range(L-1)]\n",
    "\n",
    "        for i in range(m):\n",
    "            #Forward propogation\n",
    "            a = [] # a's will be row vectors\n",
    "            a.append(np.c_[1,X[i,:].reshape(1,-1)])\n",
    "            for l in range(1,L):\n",
    "                a.append(sigmoid(a[l-1]@thetas[l-1]))\n",
    "                if l<L-1:\n",
    "                    a[l] = np.c_[1,a[l]]\n",
    "                else:\n",
    "                    a[l] = a[l].reshape(1,-1)\n",
    "\n",
    "            #compute deltas\n",
    "            delta = [[] for _ in range(L)] #deltas will be row vectors\n",
    "            delta[L-1] = a[L-1]-y[i,:].reshape(1,-1)\n",
    "            for l in range(L-2,0,-1):\n",
    "                delta[l] = (thetas[l]@delta[l+1].T).T*a[l]*(1-a[l])\n",
    "                delta[l] = delta[l][0,1:].reshape(1,-1)\n",
    "\n",
    "            #compute Deltas\n",
    "            for l in range(L-1):\n",
    "                Delta[l] = Delta[l] + a[l].T@delta[l+1]\n",
    "\n",
    "        for l in range(L-1):\n",
    "            thetas[l] -= (alpha/m)*(Delta[l]+lamda*thetas[l]*regularization_matrix[l])\n",
    "        J_list.append(costFunctionNN(X=X,y=y,lamda=lamda,thetas=thetas))\n",
    "        \n",
    "    if gradient_checking:\n",
    "        dJbdt = [np.zeros_like(Delta[l]) for l in range(L-1)]\n",
    "        epsilon = .00001\n",
    "        for l in range(L-1):\n",
    "            for i1 in range(thetas[l].shape[0]):\n",
    "                for i2 in range(thetas[l].shape[1]):\n",
    "                    tmpTheta = np.copy(thetas)\n",
    "                    tmpTheta[l][i1,i2] += epsilon\n",
    "                    plus = costFunctionNN(X=X,y=y,lamda=lamda,thetas=tmpTheta)\n",
    "                    tmpTheta = np.copy(thetas)\n",
    "                    tmpTheta[l][i1,i2] -= epsilon\n",
    "                    minus = costFunctionNN(X=X,y=y,lamda=lamda,thetas=tmpTheta)\n",
    "                    dJbdt[l][i1,i2] = ((plus-minus)/(2*epsilon))\n",
    "        return dJbdt, Delta\n",
    "    else:\n",
    "        return thetas, J_list"
   ]
  },
  {
   "cell_type": "code",
   "execution_count": 363,
   "metadata": {},
   "outputs": [
    {
     "data": {
      "text/plain": [
       "[array([[1.00615715, 1.01249299],\n",
       "        [1.00676171, 1.01442786],\n",
       "        [1.00632002, 1.0144728 ],\n",
       "        [1.00627362, 1.01580554],\n",
       "        [1.0058194 , 1.01439507],\n",
       "        [1.00591769, 1.00828501],\n",
       "        [1.00639606, 1.00918772],\n",
       "        [1.00581327, 1.00947961],\n",
       "        [1.00652594, 1.01327736],\n",
       "        [1.00645682, 1.01409469],\n",
       "        [1.00631436, 1.01388343]]),\n",
       " array([[1.00350826, 1.00344287, 1.00238504, 1.00331727],\n",
       "        [1.003326  , 1.00353528, 1.00237894, 1.00333637],\n",
       "        [1.00386028, 1.0034509 , 1.00230715, 1.00326137]])]"
      ]
     },
     "execution_count": 363,
     "metadata": {},
     "output_type": "execute_result"
    }
   ],
   "source": [
    "layers = [10,2,4]\n",
    "m = 40\n",
    "X = np.random.rand(m,10)\n",
    "y = np.random.randint(1,5,size=(m,1))\n",
    "y = ohe.fit_transform(y)\n",
    "dJbdt, Delta = neuralNetwork(X,y,layers, alpha=.01, lamda=0, gradient_checking = True)\n",
    "[Delta[l]/dJbdt[l]/(2*m) for l in range(len(Delta))]"
   ]
  },
  {
   "cell_type": "markdown",
   "metadata": {},
   "source": [
    "There's a factor of 2 somewhere that I wasn't prepared for and it held me up for a long time. Maybe it's not in the notes, maybe it's something I did, but it looks like my gradient checks out, so I'm just going to roll with it."
   ]
  },
  {
   "cell_type": "code",
   "execution_count": 382,
   "metadata": {},
   "outputs": [],
   "source": [
    "data1 = loadmat('../Data/ex4data1.mat')\n",
    "y = np.c_[data1['y']]\n",
    "X = data1['X']\n",
    "y = ohe.fit_transform(y)\n",
    "layers = [400, 25, 10]"
   ]
  },
  {
   "cell_type": "code",
   "execution_count": 402,
   "metadata": {},
   "outputs": [],
   "source": [
    "thetas, J_list = neuralNetwork(X=X, y=y, alpha=1, lamda=1, layers=layers, iterations=5000)"
   ]
  },
  {
   "cell_type": "code",
   "execution_count": 403,
   "metadata": {},
   "outputs": [
    {
     "data": {
      "image/png": "[encoded data removed]",
      "text/plain": [
       "<Figure size 432x288 with 1 Axes>"
      ]
     },
     "metadata": {
      "needs_background": "light"
     },
     "output_type": "display_data"
    }
   ],
   "source": [
    "plt.plot(J_list)\n",
    "plt.show()"
   ]
  },
  {
   "cell_type": "code",
   "execution_count": 404,
   "metadata": {},
   "outputs": [
    {
     "name": "stdout",
     "output_type": "stream",
     "text": [
      "The success rate is 98.88%\n"
     ]
    }
   ],
   "source": [
    "a2 = sigmoid(np.c_[np.ones((X.shape[0],1)),X]@thetas[0])\n",
    "a2 = np.c_[np.ones((a2.shape[0],1)),a2]\n",
    "a3 = sigmoid(a2@thetas[1])\n",
    "yGuess = a3.argmax(axis=1)\n",
    "yActual = y.argmax(axis=1)\n",
    "print(f'The success rate is {100*sum(yGuess==yActual)/yActual.size}%')"
   ]
  },
  {
   "cell_type": "code",
   "execution_count": 405,
   "metadata": {},
   "outputs": [
    {
     "data": {
      "image/png": "[encoded data removed]",
      "text/plain": [
       "<Figure size 432x288 with 1 Axes>"
      ]
     },
     "metadata": {
      "needs_background": "light"
     },
     "output_type": "display_data"
    }
   ],
   "source": [
    "plt.scatter(np.arange(len(yGuess)),yGuess)\n",
    "plt.scatter(np.arange(len(yGuess)),yActual)\n",
    "plt.show()"
   ]
  },
  {
   "cell_type": "code",
   "execution_count": null,
   "metadata": {},
   "outputs": [],
   "source": []
  }
 ],
 "metadata": {
  "kernelspec": {
   "display_name": "Python 3",
   "language": "python",
   "name": "python3"
  },
  "language_info": {
   "codemirror_mode": {
    "name": "ipython",
    "version": 3
   },
   "file_extension": ".py",
   "mimetype": "text/x-python",
   "name": "python",
   "nbconvert_exporter": "python",
   "pygments_lexer": "ipython3",
   "version": "3.6.6"
  }
 },
 "nbformat": 4,
 "nbformat_minor": 2
}
