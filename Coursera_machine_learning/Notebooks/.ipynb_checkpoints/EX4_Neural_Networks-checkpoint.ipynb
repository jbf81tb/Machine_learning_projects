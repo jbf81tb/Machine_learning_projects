{
 "cells": [
  {
   "cell_type": "code",
   "execution_count": 408,
   "metadata": {},
   "outputs": [],
   "source": [
    "import pandas as pd\n",
    "import matplotlib.pyplot as plt\n",
    "import numpy as np\n",
    "from scipy.io import loadmat\n",
    "%matplotlib inline\n",
    "def sigmoid(z):\n",
    "    return 1/(1+np.exp(-z))\n",
    "def grad_sigmoid(z):\n",
    "    return np.exp(-z)/(1+np.exp(-z))**2\n",
    "from sklearn.preprocessing import OneHotEncoder\n",
    "ohe = OneHotEncoder(handle_unknown='ignore',sparse=False)"
   ]
  },
  {
   "cell_type": "markdown",
   "metadata": {},
   "source": [
    "This is the same as last time, so I'll start it up the same way, but this time with one-hot encoding."
   ]
  },
  {
   "cell_type": "code",
   "execution_count": 146,
   "metadata": {},
   "outputs": [],
   "source": [
    "data1 = loadmat('../Data/ex4data1.mat')\n",
    "y = np.c_[data1['y']]\n",
    "X = data1['X']\n",
    "y = ohe.fit_transform(y)"
   ]
  },
  {
   "cell_type": "code",
   "execution_count": 149,
   "metadata": {},
   "outputs": [],
   "source": [
    "weights = loadmat('../Data/ex4weights.mat')\n",
    "theta1 = weights['Theta1'].T\n",
    "theta2 = weights['Theta2'].T\n",
    "thetas = [theta1, theta2]"
   ]
  },
  {
   "cell_type": "code",
   "execution_count": 349,
   "metadata": {},
   "outputs": [],
   "source": [
    "def costFunctionNN(X,y,thetas,lamda):\n",
    "    #expect X to NOT be bias-offset, y to be one-hot encoded, and a list of thetas for each adjacent layer pair\n",
    "    m = X.shape[0]\n",
    "    num_layers = len(thetas)+1\n",
    "    a = []\n",
    "    a.append(np.c_[np.ones((X.shape[0],1)),X])\n",
    "    for i in range(1,num_layers):\n",
    "        a.append(sigmoid(a[i-1]@thetas[i-1]))\n",
    "        if i<num_layers-1:\n",
    "            a[i] = np.c_[np.ones((a[i].shape[0],1)),a[i]]\n",
    "    J = -np.sum(y*np.log(a[num_layers-1])+(1-y)*np.log(1-a[num_layers-1]))/m +\\\n",
    "        lamda*sum([np.sum(theta[1:,:]**2) for theta in thetas])/(2*m)\n",
    "    return J"
   ]
  },
  {
   "cell_type": "code",
   "execution_count": 151,
   "metadata": {},
   "outputs": [
    {
     "data": {
      "text/plain": [
       "0.2876291651613189"
      ]
     },
     "execution_count": 151,
     "metadata": {},
     "output_type": "execute_result"
    }
   ],
   "source": [
    "costFunctionNN(X,y,thetas,lamda=0)"
   ]
  },
  {
   "cell_type": "code",
   "execution_count": 152,
   "metadata": {},
   "outputs": [
    {
     "data": {
      "text/plain": [
       "0.384487796242894"
      ]
     },
     "execution_count": 152,
     "metadata": {},
     "output_type": "execute_result"
    }
   ],
   "source": [
    "costFunctionNN(X,y,thetas,lamda=1)"
   ]
  },
  {
   "cell_type": "markdown",
   "metadata": {},
   "source": [
    "The values check out in comparrison with the instructions."
   ]
  },
  {
   "cell_type": "markdown",
   "metadata": {},
   "source": [
    "# Now to build a NN from scratch..."
   ]
  },
  {
   "cell_type": "code",
   "execution_count": 123,
   "metadata": {},
   "outputs": [
    {
     "data": {
      "text/plain": [
       "(401, 25)"
      ]
     },
     "execution_count": 123,
     "metadata": {},
     "output_type": "execute_result"
    }
   ],
   "source": [
    "theta1.shape"
   ]
  },
  {
   "cell_type": "code",
   "execution_count": 124,
   "metadata": {},
   "outputs": [
    {
     "data": {
      "text/plain": [
       "(26, 10)"
      ]
     },
     "execution_count": 124,
     "metadata": {},
     "output_type": "execute_result"
    }
   ],
   "source": [
    "theta2.shape"
   ]
  },
  {
   "cell_type": "code",
   "execution_count": 417,
   "metadata": {},
   "outputs": [],
   "source": [
    "def neuralNetwork(X,y,layers, alpha=.01, lamda=0, iterations=100, gradient_checking=False, activation_function = lambda z:1/(1+np.exp(-z)), grad_activation_function = lambda z:np.exp(-z)/(1+np.exp(-z))**2):\n",
    "    #expect X to NOT be bias-offset, y to be one-hot encoded, and a list of counts for the number of nodes in each layer\n",
    "    #i.e. layers[0]=X.shape[1]\n",
    "    m = X.shape[0]\n",
    "    L = len(layers)\n",
    "    #Initialize random thetas\n",
    "    thetas, regularization_matrix = ([],[])\n",
    "    for l in range(L-1):\n",
    "        epsilon = np.sqrt(6/(layers[l]+layers[l+1]))\n",
    "        thetas.append(epsilon*(2*np.random.rand(layers[l]+1,layers[l+1])-1))\n",
    "        regularization_matrix.append(np.ones_like(thetas[l]))\n",
    "        regularization_matrix[l][:,0] = 0\n",
    "    \n",
    "    \n",
    "    J_list = []\n",
    "    for _ in range(iterations):\n",
    "\n",
    "        #Initialize Deltas\n",
    "        Delta = [np.zeros_like(thetas[l]) for l in range(L-1)]\n",
    "\n",
    "        \n",
    "        #Forward propogation\n",
    "        a,z = ([],[[]])\n",
    "        a.append(np.c_[np.ones((m,1)),X])\n",
    "        for l in range(1,L):\n",
    "            z.append(a[l-1]@thetas[l-1])\n",
    "            a.append(activation_function(z[l]))\n",
    "            if l<L-1:\n",
    "                a[l] = np.c_[np.ones((a[l].shape[0],1)),a[l]]\n",
    "\n",
    "        #compute deltas\n",
    "        delta = [[] for _ in range(L)] \n",
    "        delta[L-1] = a[L-1]-y\n",
    "        for l in range(L-2,0,-1):\n",
    "            delta[l] = (delta[l+1]@thetas[l].T)[:,1:]*grad_activation_function(z[l])\n",
    "        \n",
    "        #compute Deltas\n",
    "        for l in range(L-1):\n",
    "            Delta[l] = a[l].T@delta[l+1]/2\n",
    "            thetas[l] -= (alpha/m)*(Delta[l]+lamda*thetas[l]*regularization_matrix[l])\n",
    "        \n",
    "        J_list.append(costFunctionNN(X=X,y=y,lamda=lamda,thetas=thetas))\n",
    "        \n",
    "    if gradient_checking:\n",
    "        dJbdt = [np.zeros_like(Delta[l]) for l in range(L-1)]\n",
    "        epsilon = .0001\n",
    "        for l in range(L-1):\n",
    "            for i1 in range(thetas[l].shape[0]):\n",
    "                for i2 in range(thetas[l].shape[1]):\n",
    "                    tmpTheta = np.copy(thetas)\n",
    "                    tmpTheta[l][i1,i2] += epsilon\n",
    "                    plus = costFunctionNN(X=X,y=y,lamda=lamda,thetas=tmpTheta)\n",
    "                    tmpTheta = np.copy(thetas)\n",
    "                    tmpTheta[l][i1,i2] -= epsilon\n",
    "                    minus = costFunctionNN(X=X,y=y,lamda=lamda,thetas=tmpTheta)\n",
    "                    dJbdt[l][i1,i2] = ((plus-minus)/(2*epsilon))\n",
    "        return dJbdt, Delta\n",
    "    else:\n",
    "        return thetas, J_list"
   ]
  },
  {
   "cell_type": "markdown",
   "metadata": {},
   "source": [
    "### Testing the gradient"
   ]
  },
  {
   "cell_type": "code",
   "execution_count": 419,
   "metadata": {},
   "outputs": [
    {
     "data": {
      "text/plain": [
       "[array([[0.90983825, 1.03014927, 0.99144507],\n",
       "        [0.98275364, 0.99563565, 0.9961104 ],\n",
       "        [1.01311048, 1.01299458, 0.99389323],\n",
       "        [0.98117765, 0.99245605, 0.99966584],\n",
       "        [0.9995329 , 0.99245888, 0.99871208],\n",
       "        [1.00960634, 0.99229359, 1.00739883],\n",
       "        [0.99287847, 0.99245373, 1.00169166],\n",
       "        [0.98010544, 0.99524902, 0.99780658],\n",
       "        [0.97743676, 0.99862425, 0.99477095],\n",
       "        [1.00375078, 0.9972103 , 0.98850105],\n",
       "        [0.97412041, 0.96098093, 1.01100248]]),\n",
       " array([[1.02775242, 1.19488264, 0.99368209, 0.99342412],\n",
       "        [0.99604305, 1.00105083, 0.99925013, 0.9996762 ],\n",
       "        [0.99396933, 0.99173127, 0.67857708, 0.98307631],\n",
       "        [0.98012908, 0.99211517, 0.99576195, 1.00021441]])]"
      ]
     },
     "execution_count": 419,
     "metadata": {},
     "output_type": "execute_result"
    }
   ],
   "source": [
    "layers = [10,3,4]\n",
    "m = 40\n",
    "X = np.random.rand(m,10)\n",
    "y = np.random.randint(1,5,size=(m,1))\n",
    "y = ohe.fit_transform(y)\n",
    "dJbdt, Delta = neuralNetwork(X,y,layers, alpha=1, lamda=0, gradient_checking = True, activation_function=sigmoid, grad_activation_function=grad_sigmoid)\n",
    "[Delta[l]/dJbdt[l]/m for l in range(len(Delta))]"
   ]
  },
  {
   "cell_type": "markdown",
   "metadata": {},
   "source": [
    "There's a factor of 2 somewhere that I wasn't prepared for and it held me up for a long time. Maybe it's not in the notes, maybe it's something I did, but it looks like my gradient checks out, so I'm just going to roll with it."
   ]
  },
  {
   "cell_type": "markdown",
   "metadata": {},
   "source": [
    "I know the standard is to split the data between a test set and a training set. I have other projects to demonstrate that technique. This project is about building a NN from scratch."
   ]
  },
  {
   "cell_type": "code",
   "execution_count": 420,
   "metadata": {},
   "outputs": [],
   "source": [
    "data1 = loadmat('../Data/ex4data1.mat')\n",
    "y = np.c_[data1['y']]\n",
    "X = data1['X']\n",
    "y = ohe.fit_transform(y)\n",
    "layers = [400, 25, 10]"
   ]
  },
  {
   "cell_type": "code",
   "execution_count": 421,
   "metadata": {},
   "outputs": [
    {
     "name": "stdout",
     "output_type": "stream",
     "text": [
      "3min 25s ± 1.45 s per loop (mean ± std. dev. of 7 runs, 1 loop each)\n"
     ]
    }
   ],
   "source": [
    "%%timeit\n",
    "thetas, J_list = neuralNetwork(X=X, y=y, alpha=1, lamda=1, layers=layers, iterations=5000, activation_function=sigmoid, grad_activation_function=grad_sigmoid)"
   ]
  },
  {
   "cell_type": "code",
   "execution_count": 422,
   "metadata": {},
   "outputs": [
    {
     "data": {
      "image/png": "[encoded data removed]",
      "text/plain": [
       "<Figure size 432x288 with 1 Axes>"
      ]
     },
     "metadata": {
      "needs_background": "light"
     },
     "output_type": "display_data"
    }
   ],
   "source": [
    "plt.plot(J_list)\n",
    "plt.show()"
   ]
  },
  {
   "cell_type": "markdown",
   "metadata": {},
   "source": [
    "I've almost certainly overtrained it at this point, but I mostly wanted to see how far I can push it. "
   ]
  },
  {
   "cell_type": "code",
   "execution_count": 423,
   "metadata": {},
   "outputs": [
    {
     "name": "stdout",
     "output_type": "stream",
     "text": [
      "The success rate is 98.88%\n"
     ]
    }
   ],
   "source": [
    "a2 = sigmoid(np.c_[np.ones((X.shape[0],1)),X]@thetas[0])\n",
    "a2 = np.c_[np.ones((a2.shape[0],1)),a2]\n",
    "a3 = sigmoid(a2@thetas[1])\n",
    "yGuess = a3.argmax(axis=1)\n",
    "yActual = y.argmax(axis=1)\n",
    "print(f'The success rate is {100*sum(yGuess==yActual)/yActual.size}%')"
   ]
  },
  {
   "cell_type": "code",
   "execution_count": 445,
   "metadata": {},
   "outputs": [
    {
     "data": {
      "image/png": "[encoded data removed]",
      "text/plain": [
       "<Figure size 432x288 with 1 Axes>"
      ]
     },
     "metadata": {
      "needs_background": "light"
     },
     "output_type": "display_data"
    }
   ],
   "source": [
    "plt.scatter(np.arange(len(yGuess)),yGuess)\n",
    "plt.scatter(np.arange(len(yGuess)),yActual)\n",
    "plt.show()"
   ]
  },
  {
   "cell_type": "code",
   "execution_count": 435,
   "metadata": {},
   "outputs": [
    {
     "data": {
      "image/png": "[encoded data removed]",
      "text/plain": [
       "<Figure size 432x432 with 25 Axes>"
      ]
     },
     "metadata": {
      "needs_background": "light"
     },
     "output_type": "display_data"
    }
   ],
   "source": [
    "fig, ax = plt.subplots(nrows=5,ncols=5,sharex=True, sharey=True)\n",
    "fig.set_size_inches(w=6,h=6)\n",
    "for i1 in range(5):\n",
    "    for i2 in range(5):\n",
    "        ax[i1,i2].imshow(thetas[0][1:,i1*5+i2].reshape(20,20))\n",
    "        ax[i1,i2].set_axis_off()\n",
    "fig.subplots_adjust(hspace=0,wspace=0)\n",
    "fig.suptitle('Visualization of Hidden Layers')\n",
    "plt.show()"
   ]
  },
  {
   "cell_type": "markdown",
   "metadata": {},
   "source": [
    "You can see a few number-shapes in there. It's also interesting how there's basically no information in the periphery of the frame. That probably means this network could more easily be confused by off-center inputs."
   ]
  },
  {
   "cell_type": "markdown",
   "metadata": {},
   "source": [
    "## Now to build a neural net the scikit-learn way."
   ]
  },
  {
   "cell_type": "code",
   "execution_count": 436,
   "metadata": {},
   "outputs": [],
   "source": [
    "from sklearn.neural_network import MLPClassifier"
   ]
  },
  {
   "cell_type": "code",
   "execution_count": 439,
   "metadata": {},
   "outputs": [],
   "source": [
    "clf = MLPClassifier(hidden_layer_sizes=(25,10), activation = 'logistic', solver = 'adam', alpha = .1, max_iter=1000)"
   ]
  },
  {
   "cell_type": "code",
   "execution_count": 440,
   "metadata": {},
   "outputs": [
    {
     "data": {
      "text/plain": [
       "MLPClassifier(activation='logistic', alpha=0.1, batch_size='auto', beta_1=0.9,\n",
       "       beta_2=0.999, early_stopping=False, epsilon=1e-08,\n",
       "       hidden_layer_sizes=(25, 10), learning_rate='constant',\n",
       "       learning_rate_init=0.001, max_iter=1000, momentum=0.9,\n",
       "       n_iter_no_change=10, nesterovs_momentum=True, power_t=0.5,\n",
       "       random_state=None, shuffle=True, solver='adam', tol=0.0001,\n",
       "       validation_fraction=0.1, verbose=False, warm_start=False)"
      ]
     },
     "execution_count": 440,
     "metadata": {},
     "output_type": "execute_result"
    }
   ],
   "source": [
    "clf.fit(X,yActual)"
   ]
  },
  {
   "cell_type": "code",
   "execution_count": 441,
   "metadata": {},
   "outputs": [
    {
     "data": {
      "text/plain": [
       "498"
      ]
     },
     "execution_count": 441,
     "metadata": {},
     "output_type": "execute_result"
    }
   ],
   "source": [
    "clf.n_iter_"
   ]
  },
  {
   "cell_type": "code",
   "execution_count": 442,
   "metadata": {},
   "outputs": [],
   "source": [
    "yPredict = clf.predict(X)"
   ]
  },
  {
   "cell_type": "code",
   "execution_count": 444,
   "metadata": {},
   "outputs": [
    {
     "name": "stdout",
     "output_type": "stream",
     "text": [
      "The success rate is 98.6%\n"
     ]
    }
   ],
   "source": [
    "print(f'The success rate is {100*sum(yPredict==yActual)/yActual.size}%')"
   ]
  },
  {
   "cell_type": "markdown",
   "metadata": {},
   "source": [
    "So it was far fewer iterations and basically the same success rate as the original."
   ]
  },
  {
   "cell_type": "markdown",
   "metadata": {},
   "source": [
    "## Now for a NN the Keras way"
   ]
  },
  {
   "cell_type": "markdown",
   "metadata": {},
   "source": [
    "Since I went through the trouble of installing Tensorflow"
   ]
  },
  {
   "cell_type": "code",
   "execution_count": 446,
   "metadata": {},
   "outputs": [
    {
     "name": "stderr",
     "output_type": "stream",
     "text": [
      "Using TensorFlow backend.\n"
     ]
    }
   ],
   "source": [
    "from keras.models import Sequential\n",
    "from keras.layers import Dense\n",
    "from keras.optimizers import Adam\n",
    "from keras import backend as K"
   ]
  },
  {
   "cell_type": "code",
   "execution_count": 447,
   "metadata": {},
   "outputs": [],
   "source": [
    "model = Sequential([\n",
    "        Dense(400, activation='sigmoid',input_dim=400),\n",
    "        Dense(25, activation='sigmoid'),\n",
    "        Dense(10, activation='sigmoid')\n",
    "        ])\n",
    "model.compile(optimizer='Adam', loss='mean_squared_error',\n",
    "                  metrics=['accuracy'])"
   ]
  },
  {
   "cell_type": "code",
   "execution_count": 456,
   "metadata": {},
   "outputs": [
    {
     "name": "stdout",
     "output_type": "stream",
     "text": [
      "Epoch 1/1\n",
      "5000/5000 [==============================] - 0s 63us/step - loss: 7.1574e-04 - acc: 0.9954\n"
     ]
    },
    {
     "data": {
      "text/plain": [
       "<keras.callbacks.History at 0x256f6badeb8>"
      ]
     },
     "execution_count": 456,
     "metadata": {},
     "output_type": "execute_result"
    }
   ],
   "source": [
    "model.fit(X,y,epochs=1,batch_size=100)"
   ]
  },
  {
   "cell_type": "code",
   "execution_count": 452,
   "metadata": {},
   "outputs": [],
   "source": [
    "yKerasPredict = model.predict(X)"
   ]
  },
  {
   "cell_type": "code",
   "execution_count": 454,
   "metadata": {},
   "outputs": [],
   "source": [
    "yKerasPredict = yKerasPredict.argmax(1)"
   ]
  },
  {
   "cell_type": "code",
   "execution_count": 455,
   "metadata": {},
   "outputs": [
    {
     "name": "stdout",
     "output_type": "stream",
     "text": [
      "The success rate is 99.54%\n"
     ]
    }
   ],
   "source": [
    "print(f'The success rate is {100*sum(yKerasPredict==yActual)/yActual.size}%')"
   ]
  },
  {
   "cell_type": "markdown",
   "metadata": {},
   "source": [
    "This number matches the accuracy that the epoch bar predicted. It feels like keras maybe takes a little longer. But it reached crazy high (i.e. overfit) accuracy really fast. And it has good visualization right out of the bag. I like the way Keras allows you to build any kind of NN piece by piece in a really obvious way. It will probably be my NN choice going forward."
   ]
  },
  {
   "cell_type": "code",
   "execution_count": null,
   "metadata": {},
   "outputs": [],
   "source": []
  }
 ],
 "metadata": {
  "kernelspec": {
   "display_name": "Python 3",
   "language": "python",
   "name": "python3"
  },
  "language_info": {
   "codemirror_mode": {
    "name": "ipython",
    "version": 3
   },
   "file_extension": ".py",
   "mimetype": "text/x-python",
   "name": "python",
   "nbconvert_exporter": "python",
   "pygments_lexer": "ipython3",
   "version": "3.6.6"
  }
 },
 "nbformat": 4,
 "nbformat_minor": 2
}
